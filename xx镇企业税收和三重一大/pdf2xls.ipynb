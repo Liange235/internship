{
 "cells": [
  {
   "cell_type": "code",
   "execution_count": 1,
   "metadata": {},
   "outputs": [],
   "source": [
    "import pandas as pd\n",
    "import numpy as np\n",
    "from docx import Document\n",
    "\n",
    "import os\n",
    "\n",
    "def get_company_name(file):\n",
    "    try:\n",
    "        mess = [s.strip() for s in file.split('-') if s.strip().endswith('公司')]\n",
    "        if not mess:\n",
    "            raise ValueError(\"Substring '公司' not found!\")\n",
    "    except ValueError:\n",
    "        mess = ['Not Found']\n",
    "    return mess[0]\n",
    "\n",
    "def read_report(file):\n",
    "    \n",
    "    return\n",
    "\n",
    "c_path = os.getcwd()\n",
    "document = Document()\n",
    "dir = r\"/mnt/nvme1n1/data/涉非核查（稳定处）/2020-2022会所核查报告（稳定处）\"\n",
    "def get_files(dir):\n",
    "    paths, form, fnames, names = [], [], [], []\n",
    "    for filepath, dirnames, filenames in os.walk(dir):\n",
    "        for filename in filenames:\n",
    "            abs_p = os.path.join(filepath, filename)\n",
    "            f = abs_p.split('.')\n",
    "            nam = get_company_name(f[0])\n",
    "            paths.append(abs_p)\n",
    "            form.append(f[1])\n",
    "            fnames.append(filename)\n",
    "            names.append(nam)\n",
    "    return paths, form, fnames, names\n",
    "abs_path, form, file, company_name = get_files(dir)\n",
    "LEN = len(abs_path)\n",
    "para = document.add_paragraph('会所绝对目录：')\n",
    "for _ in abs_path:\n",
    "    para.add_run(_)\n",
    "    para.add_run('\\n')\n",
    "document.save(c_path + '/print_info.docx')\n",
    "df1 = pd.DataFrame({'企业': pd.Series(company_name), '源文件': pd.Series(file), '格式': pd.Series(form)})\n",
    "# 将每个 DataFrame 导出到一个单独的工作表，并应用样式\n",
    "filepath = c_path+'/info_statistics.xlsx'\n",
    "writer = pd.ExcelWriter(filepath, engine='openpyxl')\n",
    "df1.to_excel(writer, sheet_name='2020-2022律所核查报告(稳定处）')\n",
    "# df2.style.apply(highlight_row, idx=idx[1], axis=1).to_excel(writer, sheet_name='2020-2022会所核查报告（稳定处）')\n",
    "writer._save()"
   ]
  },
  {
   "cell_type": "code",
   "execution_count": null,
   "metadata": {},
   "outputs": [],
   "source": [
    "import pytesseract\n",
    "from PIL import Image\n",
    "img = Image.open(\"机架配置.jpg\")\n",
    "text2 = pytesseract.image_to_string(img, lang='chi_sim')\n",
    "with open(\"机架配置.txt\", \"w\") as fp:\n",
    "    fp.write(text2)"
   ]
  }
 ],
 "metadata": {
  "kernelspec": {
   "display_name": "base",
   "language": "python",
   "name": "python3"
  },
  "language_info": {
   "codemirror_mode": {
    "name": "ipython",
    "version": 3
   },
   "file_extension": ".py",
   "mimetype": "text/x-python",
   "name": "python",
   "nbconvert_exporter": "python",
   "pygments_lexer": "ipython3",
   "version": "3.10.10"
  },
  "orig_nbformat": 4
 },
 "nbformat": 4,
 "nbformat_minor": 2
}
