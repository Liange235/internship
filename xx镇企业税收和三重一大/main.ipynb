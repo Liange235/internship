{
 "cells": [
  {
   "cell_type": "markdown",
   "metadata": {},
   "source": [
    "### 企业清单到基本表信息的名称，税号，注册类型和沪官界定日期列（B,C,D,E）"
   ]
  },
  {
   "cell_type": "code",
   "execution_count": 1,
   "metadata": {},
   "outputs": [
    {
     "ename": "NameError",
     "evalue": "name 'xw' is not defined",
     "output_type": "error",
     "traceback": [
      "\u001b[0;31m---------------------------------------------------------------------------\u001b[0m",
      "\u001b[0;31mNameError\u001b[0m                                 Traceback (most recent call last)",
      "Cell \u001b[0;32mIn[1], line 8\u001b[0m\n\u001b[1;32m      6\u001b[0m path \u001b[39m=\u001b[39m os\u001b[39m.\u001b[39mgetcwd()\n\u001b[1;32m      7\u001b[0m \u001b[39m# app = xw.App(visible=True,add_book=False)\u001b[39;00m\n\u001b[0;32m----> 8\u001b[0m wb \u001b[39m=\u001b[39m xw\u001b[39m.\u001b[39mBook(\u001b[39mr\u001b[39m\u001b[39m'\u001b[39m\u001b[39mD:/egnail/file/企业信息及税收/企业清单（15-22年）.xlsx\u001b[39m\u001b[39m'\u001b[39m)\n\u001b[1;32m      9\u001b[0m sht \u001b[39m=\u001b[39m wb\u001b[39m.\u001b[39msheets[\u001b[39m'\u001b[39m\u001b[39mSheet1\u001b[39m\u001b[39m'\u001b[39m]\n\u001b[1;32m     10\u001b[0m col_d \u001b[39m=\u001b[39m sht\u001b[39m.\u001b[39mrange(\u001b[39m'\u001b[39m\u001b[39mA:A\u001b[39m\u001b[39m'\u001b[39m)\u001b[39m.\u001b[39mvalue\n",
      "\u001b[0;31mNameError\u001b[0m: name 'xw' is not defined"
     ]
    }
   ],
   "source": [
    "import xlwings as xw\n",
    "import pandas as pd\n",
    "import numpy as np\n",
    "import os\n",
    "\n",
    "path = os.getcwd()\n",
    "# app = xw.App(visible=True,add_book=False)\n",
    "wb = xw.Book(r'D:/egnail/file/企业信息及税收/企业清单（15-22年）.xlsx')\n",
    "sht = wb.sheets['Sheet1']\n",
    "col_d = sht.range('A:A').value\n",
    "name = [[_] for _ in col_d[1:] if _ is not None]\n",
    "LEN = len(name)\n",
    "col_d = sht.range('C:C').value\n",
    "n_tax = [[_] for _ in col_d[1:] if _ is not None]\n",
    "col_d = sht.range('B:B').value[1: LEN+1]\n",
    "type_register = [[_] for _ in col_d]\n",
    "col_d = sht.range('E:E').value\n",
    "date = [[_] for _ in col_d[1:] if _ is not None]\n",
    "wb_basic = xw.Book(r'D:/egnail/file/企业信息及税收/泥城企业基本信息表.xlsx')\n",
    "sht_tar = wb_basic.sheets['泥城所有企业']\n",
    "sht_tar.range('B3').value = name\n",
    "sht_tar.range('C3').value = n_tax\n",
    "sht_tar.range('D3').value = type_register\n",
    "sht_tar.range('E3').value = date\n",
    "sht_tar.range('C3:C'+str(LEN+3)).api.NumberFormat = \"0\"\n",
    "sht_tar.range('E3:E'+str(LEN+3)).api.NumberFormat = \"yyyy-mm-dd\"\n"
   ]
  },
  {
   "cell_type": "code",
   "execution_count": 2,
   "metadata": {},
   "outputs": [],
   "source": [
    "import pickle\n",
    "\n",
    "my_nested_list = [[1, 2, 3], [4, 5, 6], [7, 8, 9]]\n",
    "\n",
    "# 保存嵌套列表到文件\n",
    "with open('nested_list.pkl', 'wb') as file:\n",
    "    pickle.dump(my_nested_list, file)\n",
    "\n",
    "# 重新加载保存的嵌套列表对象\n",
    "with open('nested_list.pkl', 'rb') as file:\n",
    "    loaded_nested_list = pickle.load(file)\n"
   ]
  },
  {
   "cell_type": "markdown",
   "metadata": {},
   "source": [
    "### 税收明细到基本表信息的2018年~2022年的年税收情况（L,M,N,O,P）"
   ]
  },
  {
   "cell_type": "code",
   "execution_count": 2,
   "metadata": {},
   "outputs": [
    {
     "ename": "TypeError",
     "evalue": "'NoneType' object is not subscriptable",
     "output_type": "error",
     "traceback": [
      "\u001b[1;31m---------------------------------------------------------------------------\u001b[0m",
      "\u001b[1;31mTypeError\u001b[0m                                 Traceback (most recent call last)",
      "\u001b[1;32m~\\AppData\\Local\\Temp\\ipykernel_3040\\1647101460.py\u001b[0m in \u001b[0;36m<module>\u001b[1;34m\u001b[0m\n\u001b[0;32m     20\u001b[0m                 \u001b[0mrow_lab\u001b[0m \u001b[1;33m=\u001b[0m \u001b[0mps\u001b[0m\u001b[1;33m[\u001b[0m\u001b[1;36m0\u001b[0m\u001b[1;33m]\u001b[0m\u001b[1;33m\u001b[0m\u001b[1;33m\u001b[0m\u001b[0m\n\u001b[0;32m     21\u001b[0m                 \u001b[0mps\u001b[0m \u001b[1;33m=\u001b[0m \u001b[0mfind_position\u001b[0m\u001b[1;33m(\u001b[0m\u001b[0msht\u001b[0m\u001b[1;33m,\u001b[0m \u001b[0mf4\u001b[0m\u001b[1;33m)\u001b[0m\u001b[1;33m\u001b[0m\u001b[1;33m\u001b[0m\u001b[0m\n\u001b[1;32m---> 22\u001b[1;33m                 \u001b[0mcol_lab1\u001b[0m \u001b[1;33m=\u001b[0m \u001b[0mchr\u001b[0m\u001b[1;33m(\u001b[0m\u001b[0masc_start\u001b[0m\u001b[1;33m+\u001b[0m\u001b[0mps\u001b[0m\u001b[1;33m[\u001b[0m\u001b[1;36m1\u001b[0m\u001b[1;33m]\u001b[0m\u001b[1;33m)\u001b[0m\u001b[1;33m\u001b[0m\u001b[1;33m\u001b[0m\u001b[0m\n\u001b[0m\u001b[0;32m     23\u001b[0m                 \u001b[0mrow_lab1\u001b[0m \u001b[1;33m=\u001b[0m \u001b[0mps\u001b[0m\u001b[1;33m[\u001b[0m\u001b[1;36m0\u001b[0m\u001b[1;33m]\u001b[0m\u001b[1;33m\u001b[0m\u001b[1;33m\u001b[0m\u001b[0m\n\u001b[0;32m     24\u001b[0m                 \u001b[1;32mbreak\u001b[0m\u001b[1;33m\u001b[0m\u001b[1;33m\u001b[0m\u001b[0m\n",
      "\u001b[1;31mTypeError\u001b[0m: 'NoneType' object is not subscriptable"
     ]
    }
   ],
   "source": [
    "def find_position(rng, key):\n",
    "    for i, con in enumerate(rng):\n",
    "        for j, con_ in enumerate(con):\n",
    "            if key == con_:\n",
    "                output = [i, j]\n",
    "                return output\n",
    "home_path = r'D:\\egnail\\file\\企业信息及税收\\招商服务机构扶持明细（税收）'\n",
    "f1, f2, f3, f4 = '四季度', '12', '税收合计', '税号'\n",
    "f_doman = ['2018', '2019', '2020', '2021', '2022']\n",
    "asc_start = 65\n",
    "for _ in os.listdir(home_path):\n",
    "    if (f1 in _) or (f2 in _):\n",
    "        for _j in f_doman:\n",
    "            if _j in _:\n",
    "                year = _j\n",
    "                wb_sub = xw.Book(home_path+'\\\\'+_)\n",
    "                sht = wb_sub.sheets[0].range(\"A1:J4\").value\n",
    "                ps = find_position(sht, f3)\n",
    "                col_lab = chr(asc_start+ps[1])\n",
    "                row_lab = ps[0]\n",
    "                ps = find_position(sht, f4)\n",
    "                col_lab1 = chr(asc_start+ps[1])\n",
    "                row_lab1 = ps[0]\n",
    "                break\n",
    "        tax_pyear = wb_sub.sheets[0].range(col_lab+':'+col_lab).value[row_lab+1: LEN+row_lab+1]\n",
    "        tax_id = wb_sub.sheets[0].range(col_lab1+':'+col_lab1).value[row_lab1+1: LEN+row_lab1+1]\n",
    "        tax_id_np = np.asarray(tax_id)\n",
    "        n_tax_np = np.asarray(n_tax)\n",
    "        row_id = []\n",
    "        for _ in tax_id_np:\n",
    "            row_id.append(np.where(n_tax_np==_))\n",
    "        \n",
    "        \n",
    "        \n",
    "\n"
   ]
  },
  {
   "cell_type": "markdown",
   "metadata": {},
   "source": [
    "### Using pandas instead of xlwings module to analyze excel files."
   ]
  },
  {
   "cell_type": "code",
   "execution_count": 6,
   "metadata": {},
   "outputs": [],
   "source": [
    "import difflib\n",
    "import seaborn as sns\n",
    "import matplotlib.pyplot as plt\n",
    "import os\n",
    "import numpy as np\n",
    "import re\n",
    "from openpyxl import load_workbook\n",
    "from openpyxl.utils import get_column_letter, column_index_from_string\n",
    "\n",
    "def get_label_ind(sheet_head, col_indices):\n",
    "    res = []\n",
    "    for lab in col_indices:\n",
    "        i = 0\n",
    "        for _ in sheet_head:\n",
    "            if lab in _.value:\n",
    "                res.append(get_column_letter(i+1))\n",
    "                break\n",
    "            i += 1\n",
    "    return res   \n",
    "\n",
    "path = os.getcwd()\n",
    "dest_file = r'/home/egnail/proj/NiCheng/企业信息及税收/泥城企业基本信息表.xlsx'\n",
    "tax_folder = r'/home/egnail/proj/NiCheng/企业信息及税收/招商服务机构扶持明细（税收）/'\n",
    "company_file = r'/home/egnail/proj/NiCheng/企业信息及税收/企业清单（15-22年）.xlsx'\n",
    "wb_com = load_workbook(company_file)\n",
    "sheet_com = wb_com.active\n",
    "wb_dest = load_workbook(dest_file)\n",
    "sheet_dest = wb_dest.active\n",
    "col_indices1 = ['企业名称', '18位税号', '注册实体', '企业界定日期']\n",
    "col_indices2 = ['企业名称', '税号', '注册型/实地型', '户管界定日期/注册时间']\n",
    "col_ind_dest = get_label_ind(sheet_dest[2], col_indices2)\n",
    "\n",
    "COLS = []\n",
    "for i, _ in enumerate(col_indices1):\n",
    "    for col in sheet_com.iter_cols(values_only=True):\n",
    "        if _ == col[0]:\n",
    "            COLS.append(col[1:])\n",
    "            break\n",
    "LEN = len(COLS[0])\n",
    "COLS.insert(0, [i+1 for i in range(LEN)])\n",
    "col_ind_dest.insert(0, 'A')\n",
    "for j, _ in enumerate(COLS):\n",
    "    for i, value in enumerate(_, start=3):\n",
    "        cell = sheet_dest[col_ind_dest[j] + str(i)]\n",
    "        cell.value = value\n",
    "wb_dest.save(dest_file)\n",
    "\n",
    "NAME_COMP = COLS[1]"
   ]
  },
  {
   "cell_type": "markdown",
   "metadata": {},
   "source": [
    "### Collect tax data"
   ]
  },
  {
   "cell_type": "code",
   "execution_count": 7,
   "metadata": {},
   "outputs": [],
   "source": [
    "def is_number(string):\n",
    "    pattern = r'^-?\\d+(\\.\\d+)?$'  # 匹配整数或小数形式的数字\n",
    "    match = re.match(pattern, string)\n",
    "    return match is not None\n",
    "def search_company(name, ls):\n",
    "    length = len(ls)\n",
    "    similarity = np.zeros(length)\n",
    "    for i, _ in enumerate(ls):\n",
    "        similarity[i] = difflib.SequenceMatcher(autojunk=True, a=name, b=_).ratio()\n",
    "    idx = np.argmax(similarity)\n",
    "    return idx\n",
    "ns = ['G', 'D' ,'F', 'D', 'E']  ##for 2021, 2019, 2018, 2022, 2020\n",
    "col_indices3 = []\n",
    "Name2, TAX = [], []\n",
    "i = 0\n",
    "header_row = sheet_dest[2]\n",
    "for file in os.listdir(tax_folder):\n",
    "    if '四季度' in file:\n",
    "        abs_path = os.path.join(tax_folder, file)\n",
    "        year = file.split('年')[0]\n",
    "        col_indices3.append([_i.value for _i in header_row if year in _i.value][0])\n",
    "        wb_tax = load_workbook(abs_path, data_only=True)\n",
    "        sh_name = wb_tax.sheetnames[0]\n",
    "        sheet_tax = wb_tax[sh_name]\n",
    "        sub_name = []\n",
    "        j = 0\n",
    "        for col in sheet_tax.iter_cols(min_col=1, max_col=5, min_row=1, max_row=3, values_only=True):\n",
    "            sub = tuple(filter(lambda x: x is not None, col))\n",
    "            sub_name = ''.join(str(sub))\n",
    "            if '企业名称' in sub_name:\n",
    "                ns_ = get_column_letter(j+1)\n",
    "                idd = col.index('企业名称')+1\n",
    "                break\n",
    "            j += 1\n",
    "        for col in sheet_tax.iter_cols(min_col=column_index_from_string(ns_), max_col=column_index_from_string(ns_), values_only=True):\n",
    "            Name2.append(col[idd:])\n",
    "        for col in sheet_tax.iter_cols(min_col=column_index_from_string(ns[i]), max_col=column_index_from_string(ns[i]), values_only=True):\n",
    "            TAX.append(col[idd:])\n",
    "        i += 1\n",
    "col_ind_dest = get_label_ind(header_row, col_indices3)\n",
    "for j, _ in enumerate(TAX):\n",
    "    for i, value in enumerate(_, start=3):\n",
    "        val_name = Name2[j]\n",
    "        idx = search_company(val_name[i], NAME_COMP)\n",
    "        cell = sheet_dest[col_ind_dest[j] + str(idx)]\n",
    "        cell.value = value\n",
    "\n",
    "        "
   ]
  },
  {
   "cell_type": "code",
   "execution_count": 5,
   "metadata": {},
   "outputs": [
    {
     "data": {
      "text/plain": [
       "1"
      ]
     },
     "execution_count": 5,
     "metadata": {},
     "output_type": "execute_result"
    }
   ],
   "source": [
    "col.index('加补税合计')"
   ]
  },
  {
   "cell_type": "code",
   "execution_count": 64,
   "metadata": {},
   "outputs": [],
   "source": [
    "for path, file_dir, files in os.walk(home_path):\n",
    "    for file_name in files:\n",
    "        # print(os.path.join(path, file_name))  # 当前循环打印的是当前目录下的所有文件\n",
    "        print(file_name)\n",
    "    # for dir in file_dir:\n",
    "    #     print(os.path.join(path, dir)) "
   ]
  }
 ],
 "metadata": {
  "kernelspec": {
   "display_name": "Python 3.7.9 ('base')",
   "language": "python",
   "name": "python3"
  },
  "language_info": {
   "codemirror_mode": {
    "name": "ipython",
    "version": 3
   },
   "file_extension": ".py",
   "mimetype": "text/x-python",
   "name": "python",
   "nbconvert_exporter": "python",
   "pygments_lexer": "ipython3",
   "version": "3.11.4"
  },
  "orig_nbformat": 4,
  "vscode": {
   "interpreter": {
    "hash": "631926b96873d2007fbe5ba14401cac9ce99e5e76ded0bffc18be58f3fefa61b"
   }
  }
 },
 "nbformat": 4,
 "nbformat_minor": 2
}
