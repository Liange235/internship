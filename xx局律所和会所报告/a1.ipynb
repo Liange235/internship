{
 "cells": [
  {
   "cell_type": "markdown",
   "metadata": {},
   "source": [
    "### 企业清单到基本表信息的名称，税号，注册类型和沪官界定日期列（B,C,D,E）"
   ]
  },
  {
   "cell_type": "code",
   "execution_count": 1,
   "metadata": {},
   "outputs": [
    {
     "ename": "XlwingsError",
     "evalue": "The interactive mode of xlwings is only supported on Windows and macOS. On Linux, you can use xlwings Server or xlwings Reader.",
     "output_type": "error",
     "traceback": [
      "\u001b[0;31m---------------------------------------------------------------------------\u001b[0m",
      "\u001b[0;31mXlwingsError\u001b[0m                              Traceback (most recent call last)",
      "Cell \u001b[0;32mIn[1], line 8\u001b[0m\n\u001b[1;32m      6\u001b[0m path \u001b[39m=\u001b[39m os\u001b[39m.\u001b[39mgetcwd()\n\u001b[1;32m      7\u001b[0m \u001b[39m# app = xw.App(visible=True,add_book=False)\u001b[39;00m\n\u001b[0;32m----> 8\u001b[0m wb \u001b[39m=\u001b[39m xw\u001b[39m.\u001b[39;49mBook(\u001b[39mr\u001b[39;49m\u001b[39m'\u001b[39;49m\u001b[39mD:/egnail/file/企业信息及税收/企业清单（15-22年）.xlsx\u001b[39;49m\u001b[39m'\u001b[39;49m)\n\u001b[1;32m      9\u001b[0m sht \u001b[39m=\u001b[39m wb\u001b[39m.\u001b[39msheets[\u001b[39m'\u001b[39m\u001b[39mSheet1\u001b[39m\u001b[39m'\u001b[39m]\n\u001b[1;32m     10\u001b[0m col_d \u001b[39m=\u001b[39m sht\u001b[39m.\u001b[39mrange(\u001b[39m'\u001b[39m\u001b[39mA:A\u001b[39m\u001b[39m'\u001b[39m)\u001b[39m.\u001b[39mvalue\n",
      "File \u001b[0;32m~/miniconda3/lib/python3.10/site-packages/xlwings/main.py:912\u001b[0m, in \u001b[0;36mBook.__init__\u001b[0;34m(self, fullname, update_links, read_only, format, password, write_res_password, ignore_read_only_recommended, origin, delimiter, editable, notify, converter, add_to_mru, local, corrupt_load, impl, json, mode, engine)\u001b[0m\n\u001b[1;32m    909\u001b[0m fullname \u001b[39m=\u001b[39m utils\u001b[39m.\u001b[39mfspath(fullname)\n\u001b[1;32m    911\u001b[0m candidates \u001b[39m=\u001b[39m []\n\u001b[0;32m--> 912\u001b[0m \u001b[39mfor\u001b[39;00m app \u001b[39min\u001b[39;00m apps:\n\u001b[1;32m    913\u001b[0m     \u001b[39mfor\u001b[39;00m wb \u001b[39min\u001b[39;00m app\u001b[39m.\u001b[39mbooks:\n\u001b[1;32m    914\u001b[0m         \u001b[39m# Comparing by name first saves us from having to compare the\u001b[39;00m\n\u001b[1;32m    915\u001b[0m         \u001b[39m# fullname for non-candidates, which can get around issues in\u001b[39;00m\n\u001b[1;32m    916\u001b[0m         \u001b[39m# case the fullname is a problematic URL (GH 1946)\u001b[39;00m\n\u001b[1;32m    917\u001b[0m         \u001b[39mif\u001b[39;00m wb\u001b[39m.\u001b[39mname\u001b[39m.\u001b[39mlower() \u001b[39m==\u001b[39m os\u001b[39m.\u001b[39mpath\u001b[39m.\u001b[39msplit(fullname)[\u001b[39m1\u001b[39m]\u001b[39m.\u001b[39mlower() \u001b[39mand\u001b[39;00m (\n\u001b[1;32m    918\u001b[0m             wb\u001b[39m.\u001b[39mfullname\u001b[39m.\u001b[39mlower() \u001b[39m==\u001b[39m fullname\u001b[39m.\u001b[39mlower()\n\u001b[1;32m    919\u001b[0m             \u001b[39mor\u001b[39;00m wb\u001b[39m.\u001b[39mname\u001b[39m.\u001b[39mlower() \u001b[39m==\u001b[39m fullname\u001b[39m.\u001b[39mlower()\n\u001b[1;32m    920\u001b[0m         ):\n",
      "File \u001b[0;32m~/miniconda3/lib/python3.10/site-packages/xlwings/main.py:256\u001b[0m, in \u001b[0;36mApps.__iter__\u001b[0;34m(self)\u001b[0m\n\u001b[1;32m    255\u001b[0m \u001b[39mdef\u001b[39;00m \u001b[39m__iter__\u001b[39m(\u001b[39mself\u001b[39m):\n\u001b[0;32m--> 256\u001b[0m     \u001b[39mfor\u001b[39;00m app \u001b[39min\u001b[39;00m \u001b[39mself\u001b[39;49m\u001b[39m.\u001b[39;49mimpl:\n\u001b[1;32m    257\u001b[0m         \u001b[39myield\u001b[39;00m App(impl\u001b[39m=\u001b[39mapp)\n",
      "File \u001b[0;32m~/miniconda3/lib/python3.10/site-packages/xlwings/main.py:5157\u001b[0m, in \u001b[0;36mActiveEngineApps.impl\u001b[0;34m(self)\u001b[0m\n\u001b[1;32m   5153\u001b[0m \u001b[39mif\u001b[39;00m engines\u001b[39m.\u001b[39mactive \u001b[39mis\u001b[39;00m \u001b[39mNone\u001b[39;00m:\n\u001b[1;32m   5154\u001b[0m     \u001b[39mif\u001b[39;00m \u001b[39mnot\u001b[39;00m (\n\u001b[1;32m   5155\u001b[0m         sys\u001b[39m.\u001b[39mplatform\u001b[39m.\u001b[39mstartswith(\u001b[39m\"\u001b[39m\u001b[39mdarwin\u001b[39m\u001b[39m\"\u001b[39m) \u001b[39mor\u001b[39;00m sys\u001b[39m.\u001b[39mplatform\u001b[39m.\u001b[39mstartswith(\u001b[39m\"\u001b[39m\u001b[39mwin\u001b[39m\u001b[39m\"\u001b[39m)\n\u001b[1;32m   5156\u001b[0m     ):\n\u001b[0;32m-> 5157\u001b[0m         \u001b[39mraise\u001b[39;00m XlwingsError(\n\u001b[1;32m   5158\u001b[0m             \u001b[39m\"\u001b[39m\u001b[39mThe interactive mode of xlwings is only supported on Windows and \u001b[39m\u001b[39m\"\u001b[39m\n\u001b[1;32m   5159\u001b[0m             \u001b[39m\"\u001b[39m\u001b[39mmacOS. On Linux, you can use xlwings Server or xlwings Reader.\u001b[39m\u001b[39m\"\u001b[39m\n\u001b[1;32m   5160\u001b[0m         )\n\u001b[1;32m   5161\u001b[0m     \u001b[39melif\u001b[39;00m sys\u001b[39m.\u001b[39mplatform\u001b[39m.\u001b[39mstartswith(\u001b[39m\"\u001b[39m\u001b[39mdarwin\u001b[39m\u001b[39m\"\u001b[39m):\n\u001b[1;32m   5162\u001b[0m         \u001b[39mraise\u001b[39;00m XlwingsError(\n\u001b[1;32m   5163\u001b[0m             \u001b[39m'\u001b[39m\u001b[39mMake sure to have \u001b[39m\u001b[39m\"\u001b[39m\u001b[39mappscript\u001b[39m\u001b[39m\"\u001b[39m\u001b[39m and \u001b[39m\u001b[39m\"\u001b[39m\u001b[39mpsutil\u001b[39m\u001b[39m\"\u001b[39m\u001b[39m, \u001b[39m\u001b[39m'\u001b[39m\n\u001b[1;32m   5164\u001b[0m             \u001b[39m\"\u001b[39m\u001b[39mdependencies of xlwings, installed.\u001b[39m\u001b[39m\"\u001b[39m\n\u001b[1;32m   5165\u001b[0m         )\n",
      "\u001b[0;31mXlwingsError\u001b[0m: The interactive mode of xlwings is only supported on Windows and macOS. On Linux, you can use xlwings Server or xlwings Reader."
     ]
    }
   ],
   "source": [
    "import xlwings as xw\n",
    "import pandas as pd\n",
    "import numpy as np\n",
    "import os\n",
    "\n",
    "path = os.getcwd()\n",
    "# app = xw.App(visible=True,add_book=False)\n",
    "wb = xw.Book(r'D:/egnail/file/企业信息及税收/企业清单（15-22年）.xlsx')\n",
    "sht = wb.sheets['Sheet1']\n",
    "col_d = sht.range('A:A').value\n",
    "name = [[_] for _ in col_d[1:] if _ is not None]\n",
    "LEN = len(name)\n",
    "col_d = sht.range('C:C').value\n",
    "n_tax = [[_] for _ in col_d[1:] if _ is not None]\n",
    "col_d = sht.range('B:B').value[1: LEN+1]\n",
    "type_register = [[_] for _ in col_d]\n",
    "col_d = sht.range('E:E').value\n",
    "date = [[_] for _ in col_d[1:] if _ is not None]\n",
    "wb_basic = xw.Book(r'D:/egnail/file/企业信息及税收/泥城企业基本信息表.xlsx')\n",
    "sht_tar = wb_basic.sheets['泥城所有企业']\n",
    "sht_tar.range('B3').value = name\n",
    "sht_tar.range('C3').value = n_tax\n",
    "sht_tar.range('D3').value = type_register\n",
    "sht_tar.range('E3').value = date\n",
    "sht_tar.range('C3:C'+str(LEN+3)).api.NumberFormat = \"0\"\n",
    "sht_tar.range('E3:E'+str(LEN+3)).api.NumberFormat = \"yyyy-mm-dd\"\n"
   ]
  },
  {
   "cell_type": "markdown",
   "metadata": {},
   "source": [
    "### 税收明细到基本表信息的2018年~2022年的年税收情况（L,M,N,O,P）"
   ]
  },
  {
   "cell_type": "code",
   "execution_count": 2,
   "metadata": {},
   "outputs": [
    {
     "ename": "TypeError",
     "evalue": "'NoneType' object is not subscriptable",
     "output_type": "error",
     "traceback": [
      "\u001b[1;31m---------------------------------------------------------------------------\u001b[0m",
      "\u001b[1;31mTypeError\u001b[0m                                 Traceback (most recent call last)",
      "\u001b[1;32m~\\AppData\\Local\\Temp\\ipykernel_3040\\1647101460.py\u001b[0m in \u001b[0;36m<module>\u001b[1;34m\u001b[0m\n\u001b[0;32m     20\u001b[0m                 \u001b[0mrow_lab\u001b[0m \u001b[1;33m=\u001b[0m \u001b[0mps\u001b[0m\u001b[1;33m[\u001b[0m\u001b[1;36m0\u001b[0m\u001b[1;33m]\u001b[0m\u001b[1;33m\u001b[0m\u001b[1;33m\u001b[0m\u001b[0m\n\u001b[0;32m     21\u001b[0m                 \u001b[0mps\u001b[0m \u001b[1;33m=\u001b[0m \u001b[0mfind_position\u001b[0m\u001b[1;33m(\u001b[0m\u001b[0msht\u001b[0m\u001b[1;33m,\u001b[0m \u001b[0mf4\u001b[0m\u001b[1;33m)\u001b[0m\u001b[1;33m\u001b[0m\u001b[1;33m\u001b[0m\u001b[0m\n\u001b[1;32m---> 22\u001b[1;33m                 \u001b[0mcol_lab1\u001b[0m \u001b[1;33m=\u001b[0m \u001b[0mchr\u001b[0m\u001b[1;33m(\u001b[0m\u001b[0masc_start\u001b[0m\u001b[1;33m+\u001b[0m\u001b[0mps\u001b[0m\u001b[1;33m[\u001b[0m\u001b[1;36m1\u001b[0m\u001b[1;33m]\u001b[0m\u001b[1;33m)\u001b[0m\u001b[1;33m\u001b[0m\u001b[1;33m\u001b[0m\u001b[0m\n\u001b[0m\u001b[0;32m     23\u001b[0m                 \u001b[0mrow_lab1\u001b[0m \u001b[1;33m=\u001b[0m \u001b[0mps\u001b[0m\u001b[1;33m[\u001b[0m\u001b[1;36m0\u001b[0m\u001b[1;33m]\u001b[0m\u001b[1;33m\u001b[0m\u001b[1;33m\u001b[0m\u001b[0m\n\u001b[0;32m     24\u001b[0m                 \u001b[1;32mbreak\u001b[0m\u001b[1;33m\u001b[0m\u001b[1;33m\u001b[0m\u001b[0m\n",
      "\u001b[1;31mTypeError\u001b[0m: 'NoneType' object is not subscriptable"
     ]
    }
   ],
   "source": [
    "def find_position(rng, key):\n",
    "    for i, con in enumerate(rng):\n",
    "        for j, con_ in enumerate(con):\n",
    "            if key == con_:\n",
    "                output = [i, j]\n",
    "                return output\n",
    "home_path = r'D:\\egnail\\file\\企业信息及税收\\招商服务机构扶持明细（税收）'\n",
    "f1, f2, f3, f4 = '四季度', '12', '税收合计', '税号'\n",
    "f_doman = ['2018', '2019', '2020', '2021', '2022']\n",
    "asc_start = 65\n",
    "for _ in os.listdir(home_path):\n",
    "    if (f1 in _) or (f2 in _):\n",
    "        for _j in f_doman:\n",
    "            if _j in _:\n",
    "                year = _j\n",
    "                wb_sub = xw.Book(home_path+'\\\\'+_)\n",
    "                sht = wb_sub.sheets[0].range(\"A1:J4\").value\n",
    "                ps = find_position(sht, f3)\n",
    "                col_lab = chr(asc_start+ps[1])\n",
    "                row_lab = ps[0]\n",
    "                ps = find_position(sht, f4)\n",
    "                col_lab1 = chr(asc_start+ps[1])\n",
    "                row_lab1 = ps[0]\n",
    "                break\n",
    "        tax_pyear = wb_sub.sheets[0].range(col_lab+':'+col_lab).value[row_lab+1: LEN+row_lab+1]\n",
    "        tax_id = wb_sub.sheets[0].range(col_lab1+':'+col_lab1).value[row_lab1+1: LEN+row_lab1+1]\n",
    "        tax_id_np = np.asarray(tax_id)\n",
    "        n_tax_np = np.asarray(n_tax)\n",
    "        row_id = []\n",
    "        for _ in tax_id_np:\n",
    "            row_id.append(np.where(n_tax_np==_))\n",
    "        \n",
    "        \n",
    "        \n",
    "\n"
   ]
  },
  {
   "cell_type": "code",
   "execution_count": 1,
   "metadata": {},
   "outputs": [
    {
     "name": "stdout",
     "output_type": "stream",
     "text": [
      "40\n"
     ]
    }
   ],
   "source": [
    "import multiprocessing as mp\n",
    "n_workers = 2 * mp.cpu_count()\n",
    "print(n_workers)"
   ]
  },
  {
   "cell_type": "code",
   "execution_count": 58,
   "metadata": {},
   "outputs": [],
   "source": [
    "import matplotlib.pyplot as plt\n",
    "fig = plt.figure()\n",
    "plt.plot([1, 2, 3, 4, 5, 6])\n",
    "sht_tar.pictures.add(fig, name='MyPlot', update=True)"
   ]
  },
  {
   "cell_type": "code",
   "execution_count": 64,
   "metadata": {},
   "outputs": [],
   "source": [
    "for path, file_dir, files in os.walk(home_path):\n",
    "    for file_name in files:\n",
    "        # print(os.path.join(path, file_name))  # 当前循环打印的是当前目录下的所有文件\n",
    "        print(file_name)\n",
    "    # for dir in file_dir:\n",
    "    #     print(os.path.join(path, dir)) "
   ]
  }
 ],
 "metadata": {
  "kernelspec": {
   "display_name": "Python 3.7.9 ('base')",
   "language": "python",
   "name": "python3"
  },
  "language_info": {
   "codemirror_mode": {
    "name": "ipython",
    "version": 3
   },
   "file_extension": ".py",
   "mimetype": "text/x-python",
   "name": "python",
   "nbconvert_exporter": "python",
   "pygments_lexer": "ipython3",
   "version": "3.10.10"
  },
  "orig_nbformat": 4,
  "vscode": {
   "interpreter": {
    "hash": "631926b96873d2007fbe5ba14401cac9ce99e5e76ded0bffc18be58f3fefa61b"
   }
  }
 },
 "nbformat": 4,
 "nbformat_minor": 2
}
